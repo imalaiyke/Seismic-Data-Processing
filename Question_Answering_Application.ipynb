{
  "cells": [
    {
      "cell_type": "markdown",
      "metadata": {
        "id": "209drMkSh_fI"
      },
      "source": [
        "## **Seismic Data Processing FAQ**\n",
        "\n",
        "\n"
      ]
    },
    {
      "cell_type": "markdown",
      "metadata": {
        "id": "3DsCLnodRl4B"
      },
      "source": [
        "### **Question Answering Solution Using Azure AI-Language**"
      ]
    },
    {
      "cell_type": "markdown",
      "metadata": {
        "id": "L4D-yXendI3H"
      },
      "source": [
        "\n",
        "## **Project Objective**\n",
        "\n",
        "Develop a Question Answering Solution for Seismic Data Processing using Azure AI-Language and Azure AI Search. The goal is to create a chat application that provides quick and accurate responses to frequently asked questions regarding seismic data processing and related topics. This involves provisioning Azure language resources, creating a dedicated question-answering project, adding and editing sources for a comprehensive knowledge base relating to seismic processing, training and testing the AI model, deploying the solution, and integrating it into an application.\n",
        "\n",
        "\n",
        "\n",
        "The solution aims to also create a front-end application to enhance user, non-technical team experience and engagement, provide reliable information on seismic data processing.\n"
      ]
    },
    {
      "cell_type": "code",
      "execution_count": null,
      "metadata": {
        "id": "uAKP7nXGg6Eh"
      },
      "outputs": [],
      "source": [
        "!pip install azure-ai-language-questionanswering -q\n",
        "!pip install python-dotenv -q"
      ]
    },
    {
      "cell_type": "code",
      "execution_count": null,
      "metadata": {
        "colab": {
          "base_uri": "https://localhost:8080/",
          "height": 1000
        },
        "collapsed": true,
        "id": "mPhYU7PJmM8R",
        "outputId": "e2b6aa1c-d1e2-411d-fad4-6f9e7d80c368"
      },
      "outputs": [],
      "source": [
        "from dotenv import load_dotenv\n",
        "import os\n",
        "from azure.core.credentials import AzureKeyCredential\n",
        "from azure.ai.language.questionanswering import QuestionAnsweringClient\n",
        "!pip install azure-ai-language-questionanswering\n",
        "!pip install python-dotenv\n",
        "!pip install gradio\n",
        "import gradio as gr\n",
        "\n",
        "%env AI_SERVICE_ENDPOINT=https://customqnademo2024.cognitiveservices.azure.com/\n",
        "%env AI_SERVICE_KEY=BvPihFd4zCzrPaKR98CL1NSLtvIfiHCY5Z9dWsL8cfnndJCYeBjFXJ3w3AAAaACOGGySM\n",
        "%env QA_PROJECT_NAME=SeismicProcessingFAQ\n",
        "%env QA_DEPLOYMENT_NAME=production\n",
        "\n",
        "\n",
        "\n",
        "def main(user_question):\n",
        "    try:\n",
        "        # Get Configuration Settings\n",
        "        load_dotenv()\n",
        "        ai_endpoint = os.getenv('AI_SERVICE_ENDPOINT')\n",
        "        ai_key = os.getenv('AI_SERVICE_KEY')\n",
        "        ai_project_name = os.getenv('QA_PROJECT_NAME')\n",
        "        ai_deployment_name = os.getenv('QA_DEPLOYMENT_NAME')\n",
        "\n",
        "        # Create client using endpoint and key\n",
        "        credential = AzureKeyCredential(ai_key)\n",
        "        ai_client = QuestionAnsweringClient(endpoint=ai_endpoint, credential=credential)\n",
        "\n",
        "        # Submit a question and display the answer\n",
        "        response = ai_client.get_answers(question=user_question,\n",
        "                                        project_name=ai_project_name,\n",
        "                                        deployment_name=ai_deployment_name)\n",
        "        answer = \"\"\n",
        "        for candidate in response.answers:\n",
        "            answer += candidate.answer + \"\\n\"\n",
        "            answer += \"Confidence: {}\\n\".format(candidate.confidence)\n",
        "            answer += \"Source: {}\\n\".format(candidate.source)\n",
        "\n",
        "        return answer\n",
        "\n",
        "\n",
        "    except Exception as ex:\n",
        "        return str(ex)\n",
        "\n",
        "\n",
        "\n",
        "iface = gr.Interface(fn=main,\n",
        "                     inputs=gr.Textbox(lines=2, placeholder=\"Enter your question here...\"),\n",
        "                     outputs=\"text\",\n",
        "                     title=\"Seismic Insight Bot\")\n",
        "\n",
        "iface.launch()\n"
      ]
    }
  ],
  "metadata": {
    "colab": {
      "provenance": []
    },
    "kernelspec": {
      "display_name": "Python 3",
      "name": "python3"
    },
    "language_info": {
      "name": "python"
    }
  },
  "nbformat": 4,
  "nbformat_minor": 0
}
